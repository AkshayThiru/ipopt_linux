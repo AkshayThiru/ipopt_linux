{
  "nbformat": 4,
  "nbformat_minor": 0,
  "metadata": {
    "colab": {
      "provenance": []
    },
    "kernelspec": {
      "name": "python3",
      "display_name": "Python 3"
    },
    "language_info": {
      "name": "python"
    }
  },
  "cells": [
    {
      "cell_type": "code",
      "execution_count": 1,
      "metadata": {
        "colab": {
          "base_uri": "https://localhost:8080/"
        },
        "id": "vriaHgLAjqTt",
        "outputId": "5e67d8f0-7249-4589-f529-730d4e680ca5"
      },
      "outputs": [
        {
          "output_type": "stream",
          "name": "stdout",
          "text": [
            "\u001b[2K     \u001b[90m━━━━━━━━━━━━━━━━━━━━━━━━━━━━━━━━━━━━━━━━\u001b[0m \u001b[32m12.8/12.8 MB\u001b[0m \u001b[31m17.0 MB/s\u001b[0m eta \u001b[36m0:00:00\u001b[0m\n",
            "\u001b[2K     \u001b[90m━━━━━━━━━━━━━━━━━━━━━━━━━━━━━━━━━━━━━━━━\u001b[0m \u001b[32m49.6/49.6 kB\u001b[0m \u001b[31m2.9 MB/s\u001b[0m eta \u001b[36m0:00:00\u001b[0m\n",
            "\u001b[?25h"
          ]
        }
      ],
      "source": [
        "import sys\n",
        "IN_COLAB = 'google.colab' in sys.modules\n",
        "if IN_COLAB:\n",
        "  !pip install -q pyomo\n",
        "  !wget -N -q \"https://github.com/thomasfork/ipopt_linux/raw/main/ipopt-linux64.zip\"\n",
        "  !unzip -o -q ipopt-linux64"
      ]
    },
    {
      "cell_type": "code",
      "source": [
        "import pyomo.environ as pyo\n",
        "\n",
        "model = pyo.ConcreteModel()\n",
        "\n",
        "model.z = pyo.Var([1,2])\n",
        "\n",
        "model.Obj = pyo.Objective(expr = 3*model.z[1] + 2*model.z[2] + model.z[1]**2 + model.z[2]**2)\n",
        "\n",
        "model.Constraint1 = pyo.Constraint(expr = -5 <= model.z[1])\n",
        "model.Constraint2 = pyo.Constraint(expr = -0.5 <= model.z[2])\n",
        "\n",
        "solver = pyo.SolverFactory('ipopt')\n",
        "results = solver.solve(model)\n",
        "\n",
        "print(pyo.value(model.Obj))\n",
        "print(pyo.value(model.z[1]))\n",
        "print(pyo.value(model.z[2]))"
      ],
      "metadata": {
        "colab": {
          "base_uri": "https://localhost:8080/"
        },
        "id": "_hZmiyZFjvGd",
        "outputId": "1e9a1379-4c60-49d7-ae1a-b60f4c2630d6"
      },
      "execution_count": 7,
      "outputs": [
        {
          "output_type": "stream",
          "name": "stdout",
          "text": [
            "-3.000000007486878\n",
            "-1.4999999996420066\n",
            "-0.5000000074868777\n"
          ]
        }
      ]
    }
  ]
}